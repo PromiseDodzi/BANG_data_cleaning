{
 "cells": [
  {
   "cell_type": "markdown",
   "id": "64857d6f-ddcc-4822-ad07-2f808e95287f",
   "metadata": {},
   "source": [
    "### Imports"
   ]
  },
  {
   "cell_type": "code",
   "execution_count": 53,
   "id": "c3bc54b0-b766-4298-b00a-dd11fe2ae007",
   "metadata": {},
   "outputs": [],
   "source": [
    "from utils import VerbParser, NounParser\n",
    "import pandas as pd\n",
    "import re\n",
    "import os"
   ]
  },
  {
   "cell_type": "markdown",
   "id": "02e0081d-f70a-4616-9c26-94976ed05266",
   "metadata": {},
   "source": [
    "### Loading data"
   ]
  },
  {
   "cell_type": "code",
   "execution_count": 54,
   "id": "5c4d1552-b1f0-496a-a4e6-8535912ef663",
   "metadata": {},
   "outputs": [],
   "source": [
    "pd.set_option('display.max_rows', None)\n",
    "path = r\"D:\\ERC_Bang\\Tasks\\data_cleaning\" \n",
    "os.chdir(path)\n",
    "data = pd.read_csv(\"data.tsv\", sep=\"\\t\", encoding=\"utf-8\")"
   ]
  },
  {
   "cell_type": "markdown",
   "id": "7841101c-16f7-497d-a028-06bb461bf1a0",
   "metadata": {},
   "source": [
    "### Nouns"
   ]
  },
  {
   "cell_type": "code",
   "execution_count": 86,
   "id": "c2dd5ced-fe1d-4769-b48f-38173b058e01",
   "metadata": {},
   "outputs": [],
   "source": [
    "noun_parser=NounParser()\n",
    "verb_parser=VerbParser()"
   ]
  },
  {
   "cell_type": "code",
   "execution_count": 79,
   "id": "9f5f7364-6aa7-4d33-890d-ed4ba9a3506d",
   "metadata": {
    "scrolled": true
   },
   "outputs": [],
   "source": [
    "data[\"PARSED\"] = data[data[\"SINGULAR\"].notna()][\"SINGULAR\"].apply(\n",
    "    lambda x: noun_parser.first_parse_durationals(x)\n",
    ").apply(lambda x: noun_parser.second_parse_durationals(x)).apply(\n",
    "    lambda x: noun_parser.cvcv_segmentation(x)\n",
    ").apply(\n",
    "    lambda x: noun_parser.nasalized_stops(x)\n",
    ").apply(\n",
    "lambda x: noun_parser.hyphen_space(x)\n",
    ").apply(lambda x: noun_parser.identified_suffixes(x))"
   ]
  },
  {
   "cell_type": "code",
   "execution_count": 83,
   "id": "1c703957-ba33-4181-95b0-6243f2070457",
   "metadata": {},
   "outputs": [],
   "source": [
    "# data.to_csv(\"first_noun_parse.csv\", index=False)"
   ]
  },
  {
   "cell_type": "code",
   "execution_count": 85,
   "id": "7c275fc4-f560-42ea-9910-d28177bd0073",
   "metadata": {},
   "outputs": [
    {
     "data": {
      "text/plain": [
       "0             jáw-dì-m\n",
       "1              dáábà-m\n",
       "2             àrsɛ̌ɛ-m\n",
       "3             kɔ́-mbɔ̀\n",
       "4             bɛ́lɛ̀-g\n",
       "5            bɛ́lɛ̀-gù\n",
       "6                bɛ̀lú\n",
       "7                bɛ̀lú\n",
       "8          gàr sɛ̀-gɛ́\n",
       "9            à sɛ̀-gɛ́\n",
       "10          gà sɛ̀-gɛ́\n",
       "11            à sɛ̀-gɛ\n",
       "12          dèbù bɛ́lí\n",
       "13               bɛ́lí\n",
       "14           dúmɛ́-ŋgó\n",
       "15            dùmɔ́ɔ-n\n",
       "16          gà sɛ̀-gɛ́\n",
       "17               dáábá\n",
       "18           à sɛ̀-gɛ́\n",
       "19           à sɛ̀-gɛ́\n",
       "20          gà sɛ̀-gɛ́\n",
       "21                 bèl\n",
       "22               bɛ̀lì\n",
       "23    gìrⁿí árúsɛ̀-gɛ̀\n",
       "24       gìnɛ̀-ý bɛ̀lù\n",
       "25               bɛ̀lú\n",
       "26              dáábáá\n",
       "27            àrùzà-ká\n",
       "28             àrzà-gá\n",
       "29           à zɛ̀-gɛ̀\n",
       "Name: PARSED, dtype: object"
      ]
     },
     "execution_count": 85,
     "metadata": {},
     "output_type": "execute_result"
    }
   ],
   "source": [
    "data[\"PARSED\"].head(30)"
   ]
  },
  {
   "cell_type": "markdown",
   "id": "9576b628-0753-4803-bd75-7916af3e0f31",
   "metadata": {},
   "source": [
    "### Parsing nouns"
   ]
  },
  {
   "cell_type": "markdown",
   "id": "b7624e24-3d01-4c3e-b91f-85f251bdd78f",
   "metadata": {
    "jp-MarkdownHeadingCollapsed": true
   },
   "source": [
    "### Verbs"
   ]
  },
  {
   "cell_type": "code",
   "execution_count": 62,
   "id": "9994a02b-ef9c-4c49-a4ee-1c81f1e1705e",
   "metadata": {},
   "outputs": [],
   "source": [
    "verbs = data[data[\"FORM\"].notna()]\n",
    "verbs=verbs[[\"VALUE_ORG\", \"FORM\"]]\n",
    "verbs=verbs[\"FORM\"]"
   ]
  },
  {
   "cell_type": "code",
   "execution_count": 63,
   "id": "5c460abc-7da7-46a8-88e9-6efd8e83b1a3",
   "metadata": {},
   "outputs": [],
   "source": [
    "verb_parser=VerbParser()"
   ]
  },
  {
   "cell_type": "code",
   "execution_count": 64,
   "id": "5327a064-4dd3-4ac2-b025-69b4038cda38",
   "metadata": {},
   "outputs": [
    {
     "data": {
      "text/plain": [
       "424     pánd-í\n",
       "425         pó\n",
       "426      pál-í\n",
       "427      úr-ɔ́\n",
       "428    ʔɔ́r-ɛ̀\n",
       "429    kɛ̀s-ɛ́\n",
       "430      úr-ɛ̀\n",
       "431      úr-ɛ̀\n",
       "432     pɔ́-ɔ́\n",
       "433      pán-á\n",
       "Name: FORM, dtype: object"
      ]
     },
     "execution_count": 64,
     "metadata": {},
     "output_type": "execute_result"
    }
   ],
   "source": [
    "verbs.apply(\n",
    "    lambda x: verb_parser.parse_durationals(x)\n",
    ").apply(\n",
    "    lambda x: verb_parser.segment_cvcs(x))[:10]"
   ]
  },
  {
   "cell_type": "code",
   "execution_count": null,
   "id": "03f5bb3f-8a3b-4e37-9b81-49250d289bb1",
   "metadata": {},
   "outputs": [],
   "source": []
  }
 ],
 "metadata": {
  "kernelspec": {
   "display_name": "Python 3 (ipykernel)",
   "language": "python",
   "name": "python3"
  },
  "language_info": {
   "codemirror_mode": {
    "name": "ipython",
    "version": 3
   },
   "file_extension": ".py",
   "mimetype": "text/x-python",
   "name": "python",
   "nbconvert_exporter": "python",
   "pygments_lexer": "ipython3",
   "version": "3.12.1"
  }
 },
 "nbformat": 4,
 "nbformat_minor": 5
}
