{
 "cells": [
  {
   "cell_type": "markdown",
   "id": "64857d6f-ddcc-4822-ad07-2f808e95287f",
   "metadata": {
    "jp-MarkdownHeadingCollapsed": true
   },
   "source": [
    "### Imports"
   ]
  },
  {
   "cell_type": "code",
   "execution_count": 3,
   "id": "c3bc54b0-b766-4298-b00a-dd11fe2ae007",
   "metadata": {},
   "outputs": [],
   "source": [
    "from utils_1 import VerbParser, NounParser\n",
    "import pandas as pd\n",
    "import re\n",
    "import os"
   ]
  },
  {
   "cell_type": "markdown",
   "id": "02e0081d-f70a-4616-9c26-94976ed05266",
   "metadata": {},
   "source": [
    "### Loading data"
   ]
  },
  {
   "cell_type": "code",
   "execution_count": 17,
   "id": "5c4d1552-b1f0-496a-a4e6-8535912ef663",
   "metadata": {},
   "outputs": [],
   "source": [
    "pd.set_option('display.max_rows', None)\n",
    "path = r\"D:\\ERC_Bang\\Tasks\\data_cleaning\" \n",
    "os.chdir(path)\n",
    "data = pd.read_csv(\"data.tsv\", sep=\"\\t\", encoding=\"utf-8\")"
   ]
  },
  {
   "cell_type": "markdown",
   "id": "7841101c-16f7-497d-a028-06bb461bf1a0",
   "metadata": {},
   "source": [
    "### Nouns"
   ]
  },
  {
   "cell_type": "code",
   "execution_count": 8,
   "id": "9f5f7364-6aa7-4d33-890d-ed4ba9a3506d",
   "metadata": {
    "scrolled": true
   },
   "outputs": [
    {
     "data": {
      "text/plain": [
       "0       jáwdì-m\n",
       "1       dá:bà-m\n",
       "2      àrsɛ̌:-m\n",
       "3       kɔ́mbɔ̀\n",
       "4      bɛ́lɛ̀-g\n",
       "5     bɛ́lɛ̀-gù\n",
       "6         bɛ̀lú\n",
       "7         bɛ̀lú\n",
       "8    gàr sɛ̀gɛ́\n",
       "9      à sɛ̀gɛ́\n",
       "Name: SINGULAR, dtype: object"
      ]
     },
     "execution_count": 8,
     "metadata": {},
     "output_type": "execute_result"
    }
   ],
   "source": [
    "nouns = data[data[\"SINGULAR\"].notna()]\n",
    "nouns=nouns[[\"VALUE_ORG\", \"SINGULAR\"]]\n",
    "use=data[\"SINGULAR\"]\n",
    "use.head(10)"
   ]
  },
  {
   "cell_type": "markdown",
   "id": "9576b628-0753-4803-bd75-7916af3e0f31",
   "metadata": {},
   "source": [
    "### Parsing nouns"
   ]
  },
  {
   "cell_type": "code",
   "execution_count": 9,
   "id": "ff2c8437-eaf2-42fe-bcbf-c184133f57de",
   "metadata": {},
   "outputs": [],
   "source": [
    "noun_parser=NounParser()\n",
    "verb_parser=VerbParser()"
   ]
  },
  {
   "cell_type": "code",
   "execution_count": 25,
   "id": "8be5d0e1-7072-4203-b226-e214e0fc7f3a",
   "metadata": {},
   "outputs": [
    {
     "data": {
      "text/plain": [
       "40       ɲɔ̀ŋɔ̀-mɛ́\n",
       "41      ɲ̀ɔ̀ŋɔ̀-mɛ́\n",
       "42         ŋɔ̀ŋɔ́-l\n",
       "43     ɔ̀gɔ̀ ɲɔ̀ŋɔ̂\n",
       "44       ɲɔ́ɔ mɔ̀yⁿ\n",
       "45      ɔ̀gɔ̀ ɲùwⁿó\n",
       "46     ɔ̀gɔ̀ ɲɔ̀ŋɔ́\n",
       "47         njè-lèbà\n",
       "48        ɔ̀gɔ̀ ɲɔ̌\n",
       "49           ɲòŋó-m\n",
       "50       ɲɔ̀ŋɛ̀-mɛ́\n",
       "51       ɲɔ̀ʔɔ̀-mɛ́\n",
       "52              ɲɔ́\n",
       "53     ɔ̀gɔ̀ ɲɔ̀ŋɔ̀\n",
       "54      ɔ̀gɔ̀ yɔ̌ɔⁿ\n",
       "55           nùmǎ-m\n",
       "56     nì-nì-wⁿɛ̌-m\n",
       "57            ɲáálì\n",
       "58             gáàŋ\n",
       "59            gâ:ŋ \n",
       "60           gám-mà\n",
       "61        nì nì-wⁿé\n",
       "62        nì nì-wⁿé\n",
       "63          gàà-wⁿě\n",
       "64             gáŋà\n",
       "65             gáŋà\n",
       "66        dò-ndí-yê\n",
       "67             gààⁿ\n",
       "68        nì nì-wⁿé\n",
       "69           bàl-má\n",
       "70            gàànà\n",
       "71             dònó\n",
       "72          gá-m-má\n",
       "73           dò-ndò\n",
       "74           dó-ndó\n",
       "75            nìwⁿá\n",
       "76             gààⁿ\n",
       "77             gámà\n",
       "78         nàà yî-m\n",
       "79         nàà yǐ-m\n",
       "80           náá bè\n",
       "81      nàà-gù é-gù\n",
       "82         nàŋà î-ì\n",
       "83          nàŋ î:ⁿ\n",
       "84          nàà wéà\n",
       "85         nàà-mbîà\n",
       "86        nàŋà yî-ì\n",
       "87          nàà wêà\n",
       "88          nàŋ î:ⁿ\n",
       "89        nàà ɛ̀dɛ́\n",
       "90          nàŋ ííⁿ\n",
       "91          nàà í-í\n",
       "92       ɔ̀lí-í nàà\n",
       "93      nàŋà dò-mbè\n",
       "94    nàʔⁿà dò-mbéⁿ\n",
       "95     nàŋà-ì-rⁿ-íí\n",
       "96           nǎ yyè\n",
       "97           nàà îà\n",
       "98         nàà yǎ-m\n",
       "99         nàŋà náá\n",
       "Name: SINGULAR, dtype: object"
      ]
     },
     "execution_count": 25,
     "metadata": {},
     "output_type": "execute_result"
    }
   ],
   "source": [
    "use[40:100].apply(\n",
    "    lambda x: noun_parser.parse_durationals(x)\n",
    ").apply(\n",
    "    lambda x: noun_parser.cvcv_segmentation(x)\n",
    ").apply(\n",
    "    lambda x: noun_parser.nasalized_stops(x)\n",
    ").apply(\n",
    "lambda x: noun_parser.hyphen_space(x)\n",
    ").apply(\n",
    "    lambda x: verb_parser.parse_durationals(x)\n",
    ")"
   ]
  },
  {
   "cell_type": "markdown",
   "id": "b7624e24-3d01-4c3e-b91f-85f251bdd78f",
   "metadata": {},
   "source": [
    "### Parsing Verbs"
   ]
  },
  {
   "cell_type": "code",
   "execution_count": 20,
   "id": "9994a02b-ef9c-4c49-a4ee-1c81f1e1705e",
   "metadata": {},
   "outputs": [],
   "source": [
    "verbs = data[data[\"FORM\"].notna()]\n",
    "verbs=verbs[[\"VALUE_ORG\", \"FORM\"]]\n",
    "verbs=verbs[\"FORM\"]"
   ]
  },
  {
   "cell_type": "code",
   "execution_count": 21,
   "id": "5c460abc-7da7-46a8-88e9-6efd8e83b1a3",
   "metadata": {},
   "outputs": [],
   "source": [
    "verb_parser=VerbParser()"
   ]
  },
  {
   "cell_type": "code",
   "execution_count": 22,
   "id": "5ff3bf7d-3e4c-4960-af4b-6ae9f1a29084",
   "metadata": {},
   "outputs": [
    {
     "data": {
      "text/plain": [
       "424     pánd-í\n",
       "425         pó\n",
       "426      pál-í\n",
       "427      úr-ɔ́\n",
       "428    ʔɔ́r-ɛ̀\n",
       "429    kɛ̀s-ɛ́\n",
       "430      úr-ɛ̀\n",
       "431      úr-ɛ̀\n",
       "432     pɔ́-ɔ́\n",
       "433      pán-á\n",
       "Name: FORM, dtype: object"
      ]
     },
     "execution_count": 22,
     "metadata": {},
     "output_type": "execute_result"
    }
   ],
   "source": [
    "verbs.head(10).apply(\n",
    "    lambda x: verb_parser.parse_durationals(x)\n",
    ").apply(\n",
    "    lambda x: verb_parser.segment_cvcs(x)\n",
    ")"
   ]
  },
  {
   "cell_type": "code",
   "execution_count": null,
   "id": "912e2757-43ca-4d0a-9710-bb551977c08a",
   "metadata": {},
   "outputs": [],
   "source": []
  }
 ],
 "metadata": {
  "kernelspec": {
   "display_name": "Python 3 (ipykernel)",
   "language": "python",
   "name": "python3"
  },
  "language_info": {
   "codemirror_mode": {
    "name": "ipython",
    "version": 3
   },
   "file_extension": ".py",
   "mimetype": "text/x-python",
   "name": "python",
   "nbconvert_exporter": "python",
   "pygments_lexer": "ipython3",
   "version": "3.12.1"
  }
 },
 "nbformat": 4,
 "nbformat_minor": 5
}
