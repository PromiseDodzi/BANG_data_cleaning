{
 "cells": [
  {
   "cell_type": "markdown",
   "id": "64857d6f-ddcc-4822-ad07-2f808e95287f",
   "metadata": {},
   "source": [
    "### Imports"
   ]
  },
  {
   "cell_type": "code",
   "execution_count": 1,
   "id": "c3bc54b0-b766-4298-b00a-dd11fe2ae007",
   "metadata": {},
   "outputs": [],
   "source": [
    "from utils_1 import VerbParser, NounParser\n",
    "import pandas as pd\n",
    "import re\n",
    "import os"
   ]
  },
  {
   "cell_type": "markdown",
   "id": "02e0081d-f70a-4616-9c26-94976ed05266",
   "metadata": {},
   "source": [
    "### Loading data"
   ]
  },
  {
   "cell_type": "code",
   "execution_count": 2,
   "id": "5c4d1552-b1f0-496a-a4e6-8535912ef663",
   "metadata": {},
   "outputs": [],
   "source": [
    "pd.set_option('display.max_rows', None)\n",
    "path = r\"D:\\ERC_Bang\\Tasks\\data_cleaning\" \n",
    "os.chdir(path)\n",
    "data = pd.read_csv(\"data.tsv\", sep=\"\\t\", encoding=\"utf-8\")"
   ]
  },
  {
   "cell_type": "markdown",
   "id": "7841101c-16f7-497d-a028-06bb461bf1a0",
   "metadata": {},
   "source": [
    "### Nouns"
   ]
  },
  {
   "cell_type": "code",
   "execution_count": 3,
   "id": "9f5f7364-6aa7-4d33-890d-ed4ba9a3506d",
   "metadata": {
    "scrolled": true
   },
   "outputs": [
    {
     "data": {
      "text/plain": [
       "0       jáwdì-m\n",
       "1       dá:bà-m\n",
       "2      àrsɛ̌:-m\n",
       "3       kɔ́mbɔ̀\n",
       "4      bɛ́lɛ̀-g\n",
       "5     bɛ́lɛ̀-gù\n",
       "6         bɛ̀lú\n",
       "7         bɛ̀lú\n",
       "8    gàr sɛ̀gɛ́\n",
       "9      à sɛ̀gɛ́\n",
       "Name: SINGULAR, dtype: object"
      ]
     },
     "execution_count": 3,
     "metadata": {},
     "output_type": "execute_result"
    }
   ],
   "source": [
    "nouns = data[data[\"SINGULAR\"].notna()]\n",
    "nouns=nouns[[\"VALUE_ORG\", \"SINGULAR\"]]\n",
    "use=data[\"SINGULAR\"]\n",
    "use.head(10)"
   ]
  },
  {
   "cell_type": "markdown",
   "id": "9576b628-0753-4803-bd75-7916af3e0f31",
   "metadata": {},
   "source": [
    "### Parsing nouns"
   ]
  },
  {
   "cell_type": "code",
   "execution_count": 4,
   "id": "ff2c8437-eaf2-42fe-bcbf-c184133f57de",
   "metadata": {},
   "outputs": [],
   "source": [
    "noun_parser=NounParser()\n",
    "verb_parser=VerbParser()"
   ]
  },
  {
   "cell_type": "code",
   "execution_count": 9,
   "id": "8be5d0e1-7072-4203-b226-e214e0fc7f3a",
   "metadata": {},
   "outputs": [
    {
     "data": {
      "text/plain": [
       "100        náá yɔ̀á\n",
       "101       nɛ̀ɛ yɛ̌ɛ\n",
       "102           nɛ̀ɛ́\n",
       "103       nàŋà yǎ-á\n",
       "104        nàŋà náá\n",
       "105         nàà yàá\n",
       "106         nàŋà-yá\n",
       "107         nàà yɛ̀\n",
       "108         nàà yǎà\n",
       "109      nàà árⁿà-m\n",
       "110       nààgù ánà\n",
       "111        nàŋà àná\n",
       "112       nàŋà àrⁿá\n",
       "113        nàà wálá\n",
       "114        nɛ̀ɛ ánè\n",
       "115       nàŋà árⁿâ\n",
       "116        nàà árⁿá\n",
       "117       nàŋà àrⁿá\n",
       "118         nàà àná\n",
       "119    nàʔⁿà jù-ŋgú\n",
       "120        nàŋà àrá\n",
       "121        nàà àrⁿá\n",
       "122           ìjɛ́ \n",
       "123         ǹjèrû-m\n",
       "124         ìnjɛ̌-m\n",
       "125         ʔín-jɛ̀\n",
       "126            úŋɔ̀\n",
       "127        ùŋɔ́-ŋ́ \n",
       "128             ìdú\n",
       "129             ìzú\n",
       "130             ìjú\n",
       "131             ìjú\n",
       "132           ínjɛ̀\n",
       "133        ŋ̀g-wɛ̌ɛ\n",
       "134          nɛ̀rⁿî\n",
       "135           -ŋkɛ̀\n",
       "136             ìšú\n",
       "137          ìnjɛ̌ɛ\n",
       "138        í-ínjɛ́ \n",
       "139        í-í-ŋgɛ́\n",
       "140             ìsí\n",
       "141             ìsé\n",
       "142             ùjù\n",
       "143            ʔùjù\n",
       "144            nènú\n",
       "145           ìnjɛ̀\n",
       "146            ǹjɛ̀\n",
       "147             ìjú\n",
       "148         bɛ́rù-m\n",
       "149         bɛ́rì-m\n",
       "150         bɛ́rù-m\n",
       "151           kílɔ̀\n",
       "152            ínàà\n",
       "153            ínàà\n",
       "154           ɛ̀nɛ́\n",
       "155           bɛ̀rú\n",
       "156           bɛ̀rú\n",
       "157        bɛ̀n-náá\n",
       "158          ɛ̀rⁿɛ́\n",
       "159           bɛ̀rú\n",
       "160             úná\n",
       "161             ínè\n",
       "162           bɛ́rî\n",
       "163           mírⁿê\n",
       "164         mɛ́rⁿɛ̂\n",
       "165             úná\n",
       "166          ɛ̀rⁿɛ́\n",
       "167           írⁿèè\n",
       "168           írⁿèè\n",
       "169             ùnà\n",
       "170          ɛ̀rⁿɛ́\n",
       "171          ɛ̀-nɛ́\n",
       "172            gɛ́ɛ\n",
       "173             gɛ́\n",
       "174           ɛ̀rⁿá\n",
       "175          ʔə́nɛ́\n",
       "176          ɛ̀rⁿɛ́\n",
       "177       bɛ̀r-yî-m\n",
       "178       bɛ̀r yí-m\n",
       "179        ìnàà égù\n",
       "180       ɛ̀nɛ̀-î-ì\n",
       "181      bɛ̀rⁿ-î-ìⁿ\n",
       "182         úná wéé\n",
       "183          nààjîà\n",
       "184       bɛ̀r-yî-ì\n",
       "185        ìn-ɛ̀dɛ́\n",
       "186        ɛ̀rⁿ-ííⁿ\n",
       "187      ɛ̀-nɛ̀ í-í\n",
       "188    ɛ̀rⁿà-ìrⁿ-íí\n",
       "189       ʔə̀n-í-yè\n",
       "190      ɛ̀rⁿɛ̀-î-ì\n",
       "191     bɛ̀r-à-jǐ-m\n",
       "192     bɛ̀r árⁿà-m\n",
       "193       ɛ̀nɛ̀ àná\n",
       "194      bɛ̀rù àgíí\n",
       "195      bɛ̀r-à-jíí\n",
       "196     bɛ̀rù-à-rⁿá\n",
       "197        ùnà wálá\n",
       "198         ìnè ánè\n",
       "199       bɛ̀r árⁿà\n",
       "Name: SINGULAR, dtype: object"
      ]
     },
     "execution_count": 9,
     "metadata": {},
     "output_type": "execute_result"
    }
   ],
   "source": [
    "use[100:200].apply(\n",
    "    lambda x: noun_parser.first_parse_durationals(x)\n",
    ").apply(lambda x: noun_parser.second_parse_durationals(x)).apply(\n",
    "    lambda x: noun_parser.cvcv_segmentation(x)\n",
    ").apply(\n",
    "    lambda x: noun_parser.nasalized_stops(x)\n",
    ").apply(\n",
    "lambda x: noun_parser.hyphen_space(x)\n",
    ")"
   ]
  },
  {
   "cell_type": "code",
   "execution_count": 10,
   "id": "e3896bf7-1ecc-4aa0-9345-58126e07ba55",
   "metadata": {},
   "outputs": [
    {
     "data": {
      "text/plain": [
       "'bɛ̀r-àjí:'"
      ]
     },
     "execution_count": 10,
     "metadata": {},
     "output_type": "execute_result"
    }
   ],
   "source": [
    "use.loc[195]"
   ]
  },
  {
   "cell_type": "markdown",
   "id": "b7624e24-3d01-4c3e-b91f-85f251bdd78f",
   "metadata": {},
   "source": [
    "### Parsing Verbs"
   ]
  },
  {
   "cell_type": "code",
   "execution_count": null,
   "id": "ab07a0ab-4a97-4dbb-84c9-8368b80c8ecd",
   "metadata": {},
   "outputs": [],
   "source": []
  },
  {
   "cell_type": "code",
   "execution_count": 20,
   "id": "9994a02b-ef9c-4c49-a4ee-1c81f1e1705e",
   "metadata": {},
   "outputs": [],
   "source": [
    "verbs = data[data[\"FORM\"].notna()]\n",
    "verbs=verbs[[\"VALUE_ORG\", \"FORM\"]]\n",
    "verbs=verbs[\"FORM\"]"
   ]
  },
  {
   "cell_type": "code",
   "execution_count": 21,
   "id": "5c460abc-7da7-46a8-88e9-6efd8e83b1a3",
   "metadata": {},
   "outputs": [],
   "source": [
    "verb_parser=VerbParser()"
   ]
  },
  {
   "cell_type": "code",
   "execution_count": 22,
   "id": "5ff3bf7d-3e4c-4960-af4b-6ae9f1a29084",
   "metadata": {},
   "outputs": [
    {
     "data": {
      "text/plain": [
       "424     pánd-í\n",
       "425         pó\n",
       "426      pál-í\n",
       "427      úr-ɔ́\n",
       "428    ʔɔ́r-ɛ̀\n",
       "429    kɛ̀s-ɛ́\n",
       "430      úr-ɛ̀\n",
       "431      úr-ɛ̀\n",
       "432     pɔ́-ɔ́\n",
       "433      pán-á\n",
       "Name: FORM, dtype: object"
      ]
     },
     "execution_count": 22,
     "metadata": {},
     "output_type": "execute_result"
    }
   ],
   "source": [
    "verbs.head(10).apply(\n",
    "    lambda x: verb_parser.parse_durationals(x)\n",
    ").apply(\n",
    "    lambda x: verb_parser.segment_cvcs(x)\n",
    ")"
   ]
  },
  {
   "cell_type": "code",
   "execution_count": null,
   "id": "912e2757-43ca-4d0a-9710-bb551977c08a",
   "metadata": {},
   "outputs": [],
   "source": []
  }
 ],
 "metadata": {
  "kernelspec": {
   "display_name": "Python 3 (ipykernel)",
   "language": "python",
   "name": "python3"
  },
  "language_info": {
   "codemirror_mode": {
    "name": "ipython",
    "version": 3
   },
   "file_extension": ".py",
   "mimetype": "text/x-python",
   "name": "python",
   "nbconvert_exporter": "python",
   "pygments_lexer": "ipython3",
   "version": "3.12.1"
  }
 },
 "nbformat": 4,
 "nbformat_minor": 5
}
