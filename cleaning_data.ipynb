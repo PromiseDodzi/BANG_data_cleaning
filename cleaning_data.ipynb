{
 "cells": [
  {
   "cell_type": "markdown",
   "id": "64857d6f-ddcc-4822-ad07-2f808e95287f",
   "metadata": {
    "jp-MarkdownHeadingCollapsed": true
   },
   "source": [
    "### Imports"
   ]
  },
  {
   "cell_type": "code",
   "execution_count": 72,
   "id": "c3bc54b0-b766-4298-b00a-dd11fe2ae007",
   "metadata": {},
   "outputs": [],
   "source": [
    "from utils import NounParser,VerbParser,AdjectiveNumeralParser\n",
    "import pandas as pd"
   ]
  },
  {
   "cell_type": "markdown",
   "id": "85adf0b1-2150-4b58-80a8-bb4455a37e38",
   "metadata": {
    "jp-MarkdownHeadingCollapsed": true
   },
   "source": [
    "### Functions"
   ]
  },
  {
   "cell_type": "code",
   "execution_count": 130,
   "id": "cb833300-8803-411f-b6bb-a08485a36295",
   "metadata": {
    "scrolled": true
   },
   "outputs": [],
   "source": [
    "#Instantiating parser objects\n",
    "noun_parser=NounParser()\n",
    "verb_parser=VerbParser()\n",
    "adj_num_parser=AdjectiveNumeralParser()\n",
    "\n",
    "\n",
    "def prior_forms(row):\n",
    "    \"\"\"\n",
    "    puts all forms that have been parsed into a single column\n",
    "    \"\"\"\n",
    "    if pd.isna(row[\"POS\"]):  \n",
    "        return None\n",
    "    elif row[\"POS\"] in [\"noun\", \"numeral\", \"adjective\"]:\n",
    "        form = str(row[\"SINGULAR\"]) if isinstance(row[\"SINGULAR\"], str) else \"\"\n",
    "        return form\n",
    "    elif row[\"POS\"] == \"verb\":\n",
    "        verb = row[\"FORM\"]\n",
    "        if pd.isna(verb):\n",
    "            return None\n",
    "        else:\n",
    "            return verb\n",
    "\n",
    "\n",
    "\n",
    "\n",
    "def parse_data(row):\n",
    "    \"\"\"\n",
    "    parses data and places parsed data into one column\n",
    "    \"\"\"\n",
    "    if pd.isna(row[\"POS\"]):  \n",
    "        return None\n",
    "    elif row[\"POS\"] == \"noun\":\n",
    "        noun = row[\"SINGULAR\"]\n",
    "        if pd.isna(noun):\n",
    "            return None\n",
    "        return noun_parser.identified_suffixes(\n",
    "            noun_parser.hyphen_space(\n",
    "                noun_parser.nasalized_stops(\n",
    "                    noun_parser.cvcv_segmentation(\n",
    "                        noun_parser.second_parse_durationals(\n",
    "                            noun_parser.first_parse_durationals(\n",
    "                                noun_parser.existing_parses(\n",
    "                                    adj_num_parser.y_suffixes(noun.strip(\"()/_\"))))))))) if noun.endswith(\"y\") or (noun.endswith(\"ⁿ\") and noun[-2]==\"y\") else noun_parser.identified_suffixes(\n",
    "            noun_parser.hyphen_space(\n",
    "                noun_parser.nasalized_stops(\n",
    "                    noun_parser.cvcv_segmentation(\n",
    "                        noun_parser.second_parse_durationals(\n",
    "                            noun_parser.first_parse_durationals(\n",
    "                                noun_parser.existing_parses(noun.strip(\"()/_\")))))))) \n",
    "    elif row[\"POS\"] == \"verb\":\n",
    "        verb = row[\"FORM\"]\n",
    "        if pd.isna(verb):\n",
    "            return None\n",
    "        return verb_parser.post_editing_short_strings(\n",
    "            verb_parser.segment_cvcs(\n",
    "                verb_parser.second_parse_durationals(\n",
    "                    verb_parser.first_parse_durationals(\n",
    "                        verb_parser.existing_parses(verb.strip(\")(_\"))))))\n",
    "    elif row[\"POS\"] == \"numeral\" or row[\"POS\"] == \"adjective\":\n",
    "        adjective_numeral = str(row[\"SINGULAR\"]) if isinstance(row[\"SINGULAR\"], str) else \"\"\n",
    "        if pd.isna(adjective_numeral):\n",
    "            return None\n",
    "        return adj_num_parser.miscellaneous(\n",
    "            adj_num_parser.switch_hyphen_position(\n",
    "                adj_num_parser.replace_hyphens_keep_last(\n",
    "                    adj_num_parser.y_suffixes(\n",
    "                        adj_num_parser.isolating_suffixes(\n",
    "                            adj_num_parser.second_parse_durationals(\n",
    "                                adj_num_parser.first_parse_durationals(\n",
    "                                    adj_num_parser.existing_parses(adjective_numeral.strip(\"()/_\")))))))))\n",
    "    elif row[\"POS\"] in [\"pronoun\", \"other\"]:\n",
    "        form=row[\"SINGULAR\"]\n",
    "        return form\n",
    "    else:\n",
    "        return None"
   ]
  },
  {
   "cell_type": "markdown",
   "id": "02e0081d-f70a-4616-9c26-94976ed05266",
   "metadata": {
    "jp-MarkdownHeadingCollapsed": true,
    "tags": []
   },
   "source": [
    "### Loading data"
   ]
  },
  {
   "cell_type": "code",
   "execution_count": 131,
   "id": "5c4d1552-b1f0-496a-a4e6-8535912ef663",
   "metadata": {},
   "outputs": [],
   "source": [
    "pd.set_option('display.max_rows', None)\n",
    "path = r\"D:\\ERC_Bang\\Tasks\\data_cleaning\" \n",
    "os.chdir(path)\n",
    "data = pd.read_csv(\"data.tsv\", sep=\"\\t\", encoding=\"utf-8\")\n",
    "list_to_drop=[\"FRENCH\", \"ENGLISH_SHORT\", \"FRENCH_SHORT\", \"ENGLISH_CATEGORY\", \"FRENCH_CATEGORY\", \"PARSED FORM\", \"MCF\", \"RECONSTRUCTION\", \"NOTE\", \"NOTES\",\"Unnamed: 18\", \"Unnamed: 19\", \"Unnamed: 20\", \"Unnamed: 21\", \"COGID\", \"COGIDS\", \"Unnamed: 24\"]\n",
    "data=data.drop(list_to_drop, axis=1)"
   ]
  },
  {
   "cell_type": "code",
   "execution_count": 132,
   "id": "3ad04aa7-da60-430c-a8dc-9f611f8d1317",
   "metadata": {},
   "outputs": [],
   "source": [
    "data[\"BEFORE_PARSE\"]=data.apply(prior_forms, axis=1)"
   ]
  },
  {
   "cell_type": "code",
   "execution_count": 133,
   "id": "fc0a24f9-4053-413d-882a-420461eab4d8",
   "metadata": {},
   "outputs": [
    {
     "data": {
      "text/plain": [
       "0       jáwdì-m\n",
       "1       dá:bà-m\n",
       "2      àrsɛ̌:-m\n",
       "3       kɔ́mbɔ̀\n",
       "4      bɛ́lɛ̀-g\n",
       "5     bɛ́lɛ̀-gù\n",
       "6         bɛ̀lú\n",
       "7         bɛ̀lú\n",
       "8    gàr sɛ̀gɛ́\n",
       "9      à sɛ̀gɛ́\n",
       "Name: BEFORE_PARSE, dtype: object"
      ]
     },
     "execution_count": 133,
     "metadata": {},
     "output_type": "execute_result"
    }
   ],
   "source": [
    "data[\"BEFORE_PARSE\"][:10]"
   ]
  },
  {
   "cell_type": "code",
   "execution_count": 134,
   "id": "ea576efe-f952-49a7-be8a-9ae7efcea988",
   "metadata": {},
   "outputs": [],
   "source": [
    "data['PARSED'] = data.apply(parse_data, axis=1)"
   ]
  },
  {
   "cell_type": "code",
   "execution_count": 135,
   "id": "48f452ef-38f3-4040-ae74-b0d3e32ceb43",
   "metadata": {
    "scrolled": true
   },
   "outputs": [
    {
     "data": {
      "text/plain": [
       "0       jáw-dì-m\n",
       "1        dáábà-m\n",
       "2       àrsɛ̌ɛ-m\n",
       "3       kɔ́-mbɔ̀\n",
       "4       bɛ́lɛ̀-g\n",
       "5      bɛ́lɛ̀-gù\n",
       "6          bɛ̀lú\n",
       "7          bɛ̀lú\n",
       "8    gàr sɛ̀-gɛ́\n",
       "9      à sɛ̀-gɛ́\n",
       "Name: PARSED, dtype: object"
      ]
     },
     "execution_count": 135,
     "metadata": {},
     "output_type": "execute_result"
    }
   ],
   "source": [
    "data[\"PARSED\"][:10]"
   ]
  },
  {
   "cell_type": "code",
   "execution_count": 136,
   "id": "a461a8e3-38d8-4566-8c65-d126fd558382",
   "metadata": {},
   "outputs": [],
   "source": [
    "data.to_csv(\"second_parse.csv\", index=False)"
   ]
  },
  {
   "cell_type": "markdown",
   "id": "7841101c-16f7-497d-a028-06bb461bf1a0",
   "metadata": {
    "jp-MarkdownHeadingCollapsed": true,
    "tags": []
   },
   "source": [
    "### Nouns"
   ]
  },
  {
   "cell_type": "code",
   "execution_count": 68,
   "id": "eb907d0f-0ac1-41b1-ae2b-d8f894264655",
   "metadata": {},
   "outputs": [],
   "source": [
    "nouns= data[data[\"SINGULAR\"].notna()][\"SINGULAR\"]"
   ]
  },
  {
   "cell_type": "code",
   "execution_count": 69,
   "id": "1c703957-ba33-4181-95b0-6243f2070457",
   "metadata": {},
   "outputs": [],
   "source": [
    "noun_parser=NounParser()"
   ]
  },
  {
   "cell_type": "code",
   "execution_count": 70,
   "id": "7c275fc4-f560-42ea-9910-d28177bd0073",
   "metadata": {},
   "outputs": [],
   "source": [
    "nouns_parsed = nouns.apply(lambda x: adj_num_parser.y_suffixes(x) if x.endswith(\"y\") or (x.endswith(\"ⁿ\") and x[-2]==\"y\") else x).apply(\n",
    "    lambda x: noun_parser.first_parse_durationals(x)).apply(\n",
    "    lambda x: noun_parser.second_parse_durationals(x)).apply(\n",
    "    lambda x: noun_parser.cvcv_segmentation(x)).apply(\n",
    "    lambda x: noun_parser.nasalized_stops(x)).apply(\n",
    "    lambda x: noun_parser.hyphen_space(x)).apply(\n",
    "    lambda x: noun_parser.identified_suffixes(x))"
   ]
  },
  {
   "cell_type": "code",
   "execution_count": 88,
   "id": "f809acc8-c2fc-4824-a934-b3e6e91ae61c",
   "metadata": {
    "scrolled": true
   },
   "outputs": [
    {
     "data": {
      "text/plain": [
       "0       jáw-dì-m\n",
       "1        dáábà-m\n",
       "2       àrsɛ̌ɛ-m\n",
       "3       kɔ́-mbɔ̀\n",
       "4       bɛ́lɛ̀-g\n",
       "5      bɛ́lɛ̀-gù\n",
       "6          bɛ̀lú\n",
       "7          bɛ̀lú\n",
       "8    gàr sɛ̀-gɛ́\n",
       "9      à sɛ̀-gɛ́\n",
       "Name: SINGULAR, dtype: object"
      ]
     },
     "execution_count": 88,
     "metadata": {},
     "output_type": "execute_result"
    }
   ],
   "source": [
    "nouns_parsed[:10]"
   ]
  },
  {
   "cell_type": "markdown",
   "id": "b7624e24-3d01-4c3e-b91f-85f251bdd78f",
   "metadata": {
    "jp-MarkdownHeadingCollapsed": true
   },
   "source": [
    "### Verbs"
   ]
  },
  {
   "cell_type": "code",
   "execution_count": 137,
   "id": "25c25bca-3fad-4563-9110-8ba41d3dbdd7",
   "metadata": {},
   "outputs": [],
   "source": [
    "verbs=data[data[\"FORM\"].notna()][\"FORM\"]"
   ]
  },
  {
   "cell_type": "code",
   "execution_count": 138,
   "id": "997acbf9-1b11-4559-a202-6655342ab532",
   "metadata": {
    "tags": []
   },
   "outputs": [],
   "source": [
    "verb_parser=VerbParser()"
   ]
  },
  {
   "cell_type": "code",
   "execution_count": 139,
   "id": "bb79ea76-5f38-4181-859a-772e7c80da45",
   "metadata": {},
   "outputs": [],
   "source": [
    "verbs_parsed= (verbs\n",
    "    .apply(verb_parser.existing_parses)\n",
    "    .apply(verb_parser.first_parse_durationals)\n",
    "    .apply(verb_parser.segment_cvcs)\n",
    "    .apply(verb_parser.post_editing_short_strings)\n",
    ")"
   ]
  },
  {
   "cell_type": "code",
   "execution_count": 141,
   "id": "47676a69-2c09-4ffc-80b9-d0fc51d7ce86",
   "metadata": {},
   "outputs": [
    {
     "data": {
      "text/plain": [
       "424     pánd-í\n",
       "425         pó\n",
       "426      pál-í\n",
       "427      úr-ɔ́\n",
       "428    ʔɔ́r-ɛ̀\n",
       "429    kɛ̀s-ɛ́\n",
       "430      úr-ɛ̀\n",
       "431      úr-ɛ̀\n",
       "432     pɔ́-ɔ́\n",
       "433      pán-á\n",
       "Name: FORM, dtype: object"
      ]
     },
     "execution_count": 141,
     "metadata": {},
     "output_type": "execute_result"
    }
   ],
   "source": [
    "verbs_parsed[:10]"
   ]
  },
  {
   "cell_type": "markdown",
   "id": "972f68cf-41fa-4f8b-b1b5-9bdcd7de0544",
   "metadata": {},
   "source": [
    "### Adjective_numerals"
   ]
  },
  {
   "cell_type": "code",
   "execution_count": 143,
   "id": "b1dfe0d2-c2e9-4513-8384-6edc191e7dd7",
   "metadata": {},
   "outputs": [],
   "source": [
    "adjective_numeral = data[(data[\"POS\"] == \"numeral\") | (data[\"POS\"] == \"adjective\")][\"SINGULAR\"]\n",
    "adjective_numeral = adjective_numeral.apply(lambda x: str(x) if isinstance(x, str) else \"\" )"
   ]
  },
  {
   "cell_type": "code",
   "execution_count": 144,
   "id": "8c5e4843-7057-4e3a-94fc-76eb21db1c07",
   "metadata": {},
   "outputs": [],
   "source": [
    "adj_num_parser=AdjectiveNumeralParser()"
   ]
  },
  {
   "cell_type": "code",
   "execution_count": 145,
   "id": "59ac749e-6927-4b5c-b567-9d5b3980a590",
   "metadata": {},
   "outputs": [],
   "source": [
    "parsed_adjective_numerals=adjective_numeral.apply(\n",
    "    adj_num_parser.existing_parses).apply(\n",
    "    adj_num_parser.first_parse_durationals).apply(\n",
    "    adj_num_parser.isolating_suffixes).apply(\n",
    "    adj_num_parser.y_suffixes).apply(\n",
    "    adj_num_parser.replace_hyphens_keep_last).apply(\n",
    "    adj_num_parser.switch_hyphen_position).apply(\n",
    "    adj_num_parser.miscellaneous\n",
    "    )"
   ]
  },
  {
   "cell_type": "code",
   "execution_count": 146,
   "id": "34e98c24-c25e-47ea-a74b-51b5ce10620e",
   "metadata": {},
   "outputs": [
    {
     "data": {
      "text/plain": [
       "772      pɛ̌-ɛ́\n",
       "773      pɛ̌-ɛ́\n",
       "774      ʔìl-ɛ̀\n",
       "775      dìy-ɔ́\n",
       "776    dìyɔ̌-ɔ́\n",
       "777       pɛ̌-y\n",
       "778      kóór-ó\n",
       "779      pɛ́-yⁿ\n",
       "780      pɛ̌-yⁿ\n",
       "781      pɛ̌-yⁿ\n",
       "Name: SINGULAR, dtype: object"
      ]
     },
     "execution_count": 146,
     "metadata": {},
     "output_type": "execute_result"
    }
   ],
   "source": [
    "parsed_adjective_numerals[:10]"
   ]
  },
  {
   "cell_type": "code",
   "execution_count": null,
   "id": "c5b3d15f-c75b-436c-9bdc-63eecdbf0d9e",
   "metadata": {},
   "outputs": [],
   "source": []
  }
 ],
 "metadata": {
  "kernelspec": {
   "display_name": "Python 3 (ipykernel)",
   "language": "python",
   "name": "python3"
  },
  "language_info": {
   "codemirror_mode": {
    "name": "ipython",
    "version": 3
   },
   "file_extension": ".py",
   "mimetype": "text/x-python",
   "name": "python",
   "nbconvert_exporter": "python",
   "pygments_lexer": "ipython3",
   "version": "3.12.1"
  }
 },
 "nbformat": 4,
 "nbformat_minor": 5
}
