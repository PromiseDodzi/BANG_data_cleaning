{
 "cells": [
  {
   "cell_type": "markdown",
   "id": "64857d6f-ddcc-4822-ad07-2f808e95287f",
   "metadata": {
    "jp-MarkdownHeadingCollapsed": true
   },
   "source": [
    "### Imports"
   ]
  },
  {
   "cell_type": "code",
   "execution_count": 1,
   "id": "c3bc54b0-b766-4298-b00a-dd11fe2ae007",
   "metadata": {},
   "outputs": [],
   "source": [
    "from utils import VerbParser, NounParser\n",
    "import pandas as pd\n",
    "import re\n",
    "import os"
   ]
  },
  {
   "cell_type": "markdown",
   "id": "02e0081d-f70a-4616-9c26-94976ed05266",
   "metadata": {
    "jp-MarkdownHeadingCollapsed": true
   },
   "source": [
    "### Loading data"
   ]
  },
  {
   "cell_type": "code",
   "execution_count": 2,
   "id": "5c4d1552-b1f0-496a-a4e6-8535912ef663",
   "metadata": {},
   "outputs": [],
   "source": [
    "pd.set_option('display.max_rows', None)\n",
    "path = r\"D:\\ERC_Bang\\Tasks\\data_cleaning\" \n",
    "os.chdir(path)\n",
    "data = pd.read_csv(\"data.tsv\", sep=\"\\t\", encoding=\"utf-8\")"
   ]
  },
  {
   "cell_type": "markdown",
   "id": "7841101c-16f7-497d-a028-06bb461bf1a0",
   "metadata": {
    "jp-MarkdownHeadingCollapsed": true
   },
   "source": [
    "### Nouns"
   ]
  },
  {
   "cell_type": "code",
   "execution_count": 3,
   "id": "9f5f7364-6aa7-4d33-890d-ed4ba9a3506d",
   "metadata": {
    "scrolled": true
   },
   "outputs": [
    {
     "data": {
      "text/plain": [
       "0       jáwdì-m\n",
       "1       dá:bà-m\n",
       "2      àrsɛ̌:-m\n",
       "3       kɔ́mbɔ̀\n",
       "4      bɛ́lɛ̀-g\n",
       "5     bɛ́lɛ̀-gù\n",
       "6         bɛ̀lú\n",
       "7         bɛ̀lú\n",
       "8    gàr sɛ̀gɛ́\n",
       "9      à sɛ̀gɛ́\n",
       "Name: SINGULAR, dtype: object"
      ]
     },
     "execution_count": 3,
     "metadata": {},
     "output_type": "execute_result"
    }
   ],
   "source": [
    "nouns = data[data[\"SINGULAR\"].notna()]\n",
    "nouns=nouns[[\"VALUE_ORG\", \"SINGULAR\"]]\n",
    "use=data[\"SINGULAR\"]\n",
    "use.head(10)"
   ]
  },
  {
   "cell_type": "markdown",
   "id": "9576b628-0753-4803-bd75-7916af3e0f31",
   "metadata": {
    "jp-MarkdownHeadingCollapsed": true
   },
   "source": [
    "### Parsing nouns"
   ]
  },
  {
   "cell_type": "code",
   "execution_count": 4,
   "id": "ff2c8437-eaf2-42fe-bcbf-c184133f57de",
   "metadata": {},
   "outputs": [],
   "source": [
    "noun_parser=NounParser()\n",
    "verb_parser=VerbParser()"
   ]
  },
  {
   "cell_type": "code",
   "execution_count": 5,
   "id": "8be5d0e1-7072-4203-b226-e214e0fc7f3a",
   "metadata": {},
   "outputs": [],
   "source": [
    "parsed=use[:200].apply(\n",
    "    lambda x: noun_parser.first_parse_durationals(x)\n",
    ").apply(lambda x: noun_parser.second_parse_durationals(x)).apply(\n",
    "    lambda x: noun_parser.cvcv_segmentation(x)\n",
    ").apply(\n",
    "    lambda x: noun_parser.nasalized_stops(x)\n",
    ").apply(\n",
    "lambda x: noun_parser.hyphen_space(x)\n",
    ").apply(lambda x: noun_parser.identified_suffixes(x))"
   ]
  },
  {
   "cell_type": "code",
   "execution_count": 6,
   "id": "903b7507-a269-474b-9e7f-c38f40387081",
   "metadata": {},
   "outputs": [
    {
     "data": {
      "text/plain": [
       "0       jáw-dì-m\n",
       "1        dáábà-m\n",
       "2       àrsɛ̌ɛ-m\n",
       "3       kɔ́-mbɔ̀\n",
       "4       bɛ́lɛ̀-g\n",
       "5      bɛ́lɛ̀-gù\n",
       "6          bɛ̀lú\n",
       "7          bɛ̀lú\n",
       "8    gàr sɛ̀-gɛ́\n",
       "9      à sɛ̀-gɛ́\n",
       "Name: SINGULAR, dtype: object"
      ]
     },
     "execution_count": 6,
     "metadata": {},
     "output_type": "execute_result"
    }
   ],
   "source": [
    "parsed.head(10)"
   ]
  },
  {
   "cell_type": "markdown",
   "id": "b7624e24-3d01-4c3e-b91f-85f251bdd78f",
   "metadata": {
    "jp-MarkdownHeadingCollapsed": true
   },
   "source": [
    "### Parsing Verbs"
   ]
  },
  {
   "cell_type": "code",
   "execution_count": 7,
   "id": "9994a02b-ef9c-4c49-a4ee-1c81f1e1705e",
   "metadata": {},
   "outputs": [],
   "source": [
    "verbs = data[data[\"FORM\"].notna()]\n",
    "verbs=verbs[[\"VALUE_ORG\", \"FORM\"]]\n",
    "verbs=verbs[\"FORM\"]"
   ]
  },
  {
   "cell_type": "code",
   "execution_count": 8,
   "id": "5c460abc-7da7-46a8-88e9-6efd8e83b1a3",
   "metadata": {},
   "outputs": [],
   "source": [
    "verb_parser=VerbParser()"
   ]
  },
  {
   "cell_type": "code",
   "execution_count": 9,
   "id": "5ff3bf7d-3e4c-4960-af4b-6ae9f1a29084",
   "metadata": {},
   "outputs": [
    {
     "data": {
      "text/plain": [
       "424     pánd-í\n",
       "425         pó\n",
       "426      pál-í\n",
       "427      úr-ɔ́\n",
       "428    ʔɔ́r-ɛ̀\n",
       "429    kɛ̀s-ɛ́\n",
       "430      úr-ɛ̀\n",
       "431      úr-ɛ̀\n",
       "432     pɔ́-ɔ́\n",
       "433      pán-á\n",
       "Name: FORM, dtype: object"
      ]
     },
     "execution_count": 9,
     "metadata": {},
     "output_type": "execute_result"
    }
   ],
   "source": [
    "verbs.head(10).apply(\n",
    "    lambda x: verb_parser.parse_durationals(x)\n",
    ").apply(\n",
    "    lambda x: verb_parser.segment_cvcs(x)\n",
    ")"
   ]
  }
 ],
 "metadata": {
  "kernelspec": {
   "display_name": "Python 3 (ipykernel)",
   "language": "python",
   "name": "python3"
  },
  "language_info": {
   "codemirror_mode": {
    "name": "ipython",
    "version": 3
   },
   "file_extension": ".py",
   "mimetype": "text/x-python",
   "name": "python",
   "nbconvert_exporter": "python",
   "pygments_lexer": "ipython3",
   "version": "3.12.1"
  }
 },
 "nbformat": 4,
 "nbformat_minor": 5
}
